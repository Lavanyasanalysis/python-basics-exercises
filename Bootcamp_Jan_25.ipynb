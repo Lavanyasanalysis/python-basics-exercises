{
  "nbformat": 4,
  "nbformat_minor": 0,
  "metadata": {
    "colab": {
      "provenance": [],
      "toc_visible": true,
      "authorship_tag": "ABX9TyN0tYoK/mTNXJ2MZI3Ua1VW"
    },
    "kernelspec": {
      "name": "python3",
      "display_name": "Python 3"
    },
    "language_info": {
      "name": "python"
    }
  },
  "cells": [
    {
      "cell_type": "markdown",
      "source": [
        "# **Week 1 : Python for Data Science Part - 1:**\n"
      ],
      "metadata": {
        "id": "EANnfVmKzepu"
      }
    },
    {
      "cell_type": "markdown",
      "source": [
        "## **ACPDS - Fundamentals of Python - Introduction to Computer Programming - Session Overview**\n",
        "\n",
        "Welcome to the module titled ‘Fundamentals of Python’.\n",
        "\n",
        "\n",
        "\n",
        "You will learn about the role of Python in the software development ecosystem and gain insights into what it means to be a developer. You will also learn about the history of programming in general and Python in particular. We will also talk about the various components involved in working as a successful software developer and data scientist. You will get started with setting up your environment to begin coding in Python.\n",
        "\n",
        "\n",
        "\n",
        "People you will hear from:\n",
        "\n",
        "\n",
        "\n",
        "Abhishek Vijayvargia\n",
        "\n",
        "Abhishek Vijayvargia has worked in high-level data science positions. He obtained his master’s degree from IIT Kanpur and has previously worked at reputable firms such as Microsoft. He has authored several technical books and has presented content at various conferences. He is a passionate educator and has worked with multiple e-learning platforms to help teach programming concepts to learners. He currently has over 145,000 followers on LinkedIn.\n",
        "\n",
        "\n",
        "\n",
        "Sudarshanan K Raghavan\n",
        "\n",
        "Sudarshanan works in the technical education industry, specialising in mathematical and technical education. He has created and managed the creation of content related to mathematics, statistics, data science and machine learning. He is an experienced teacher who has delivered hundreds of hours of content as a teaching assistant for upGrad’s data science programs. Sudarshanan holds a master's degree from IIT Bombay and a bachelor's degree from Manipal Institute of Technology, Manipal.\n",
        "\n",
        "\n",
        "\n",
        "Here’s Abhishek with more on Python programming:\n",
        "\n",
        "Note on grading: There are no graded sections in this module.\n",
        "\n",
        "\n",
        "\n",
        "Disclaimers\n",
        "\n",
        "\n",
        "\n",
        "Disclaimer 1: The learning module may contain images, both still and moving, including photographs, advertisements, trademarks, video clips, etc. procured from the public domain, social media, or other print or digital publications, under Fair Use in accordance with Section 52 of the Indian Copyright Act, 1957, that are being used for the purpose of commenting, imparting education, disseminating information, illustrating an academic concept, teaching, and research. All rights and credit go directly to their rightful owner(s). No copyright infringement is intended.\n",
        "\n",
        "\n",
        "\n",
        "Disclaimer 2: Throughout this course, you will see examples of different brands and institutes. These have been chosen from specific cases in a manner that would aid in demonstrating concepts. These do not reflect the current performance of any company. Any opinion expressed is strictly for educational purposes.\n",
        "\n",
        "\n",
        "\n",
        "You need to understand the basics of programming and Python before you proceed. Once you have a strong foundation of these, you will easily be able to adapt to any new tools and technologies that you wish to incorporate into your repertoire of programming.\n",
        "\n",
        "Welcome to the session titled ‘Introduction to Computer Programming’.\n",
        "\n",
        "\n",
        "\n",
        "You would be surprised to learn of the many ways in which programming is embedded into our daily lives. For instance, when you check the weather app on your phone, you are accessing code, which is tapping into real, live weather data from various weather stations around the world. When you use a digital calendar, cleverly designed programs are working on the backend to set reminders, avoid scheduling conflicts and manage timezones. Even physical devices such as the microwave we use at home use code to manage aspects such as the power consumed, cooking time and turntable rotation so that you can heat your food to suit your preferences.\n",
        "\n",
        "\n",
        "\n",
        "Abhishek will discuss some more examples of how programming drives the modern world:\n",
        "\n",
        "The modern world is shaped and structured by code. Every industry is rapidly increasing its dependency on programming, and learning how to manipulate code can offer you considerable advantages in any field. But where did this all begin? The next segment will cover the origins of computers and programming."
      ],
      "metadata": {
        "id": "hO_XoPSmzdFd"
      }
    },
    {
      "cell_type": "markdown",
      "source": [
        "Welcome to the session titled ‘Introduction to Computer Programming’.\n",
        "\n",
        "\n",
        "\n",
        "You would be surprised to learn of the many ways in which programming is embedded into our daily lives. For instance, when you check the weather app on your phone, you are accessing code, which is tapping into real, live weather data from various weather stations around the world. When you use a digital calendar, cleverly designed programs are working on the backend to set reminders, avoid scheduling conflicts and manage timezones. Even physical devices such as the microwave we use at home use code to manage aspects such as the power consumed, cooking time and turntable rotation so that you can heat your food to suit your preferences.\n",
        "\n",
        "\n",
        "\n",
        "Abhishek will discuss some more examples of how programming drives the modern world:\n",
        "\n",
        "The modern world is shaped and structured by code. Every industry is rapidly increasing its dependency on programming, and learning how to manipulate code can offer you considerable advantages in any field. But where did this all begin? The next segment will cover the origins of computers and programming.\n",
        "\n",
        "\n",
        "\n",
        "We need to know the beginnings of computers and programming because this appreciation will help you contextualise your place as a software developer or data scientist in the modern world of programming.\n",
        "\n",
        "\n",
        "\n",
        "The world of computer science is quite complex. In ancient times, tools such as the abacus were used to perform calculations. However, these cannot be considered computers, as they have rigid rules for their use and cannot be programmed to follow instructions. They cannot be automated either, in the sense that human involvement is required at every stage of their operation.\n",
        "\n",
        "\n",
        "\n",
        "So, where did it all begin? Abhishek will discuss the origin of computers:\n",
        "\n",
        "\n",
        "As with most great endeavours, computers and programming had humble beginnings, mostly driven by imagination and fond dreams. For instance, the notion of artificial intelligence has been thought of since mediaeval times, with notions such as the golem, a mechanical construct with human-like intelligence. Today, some say we are close to achieving the reality of artificial general intelligence (AGI).\n",
        "\n",
        "\n",
        "\n",
        "Large language models (LLMs) such as ChatGPT often seem to possess an almost superhuman intelligence. When used thoughtfully, they can be powerful learning aids. Let's try querying our LLM on some of the things you've just read about:\n",
        "\n",
        "\n",
        "\n",
        "Ask an LLM of your choice for a timeline on the history of computers and programming.\n",
        "\n",
        "\n",
        "\n",
        "Ask an LLM of your choice to tell you whether an abacus is a computer."
      ],
      "metadata": {
        "id": "AoKIdE5BI2CP"
      }
    },
    {
      "cell_type": "markdown",
      "source": [
        "### ACPDS - Fundamentals of Python - Introduction to Computer Programming - Development Tools - part 1\n"
      ],
      "metadata": {
        "id": "iWqx0kBNQCmV"
      }
    },
    {
      "cell_type": "markdown",
      "source": [
        "ACPDS - Fundamentals of Python - Introduction to Computer Programming - Software Development Life Cycle - quiz\n",
        "#### Question 1 out of 2 - Software Development Life Cycle\n",
        "Single Selection\n",
        "1\n",
        "State whether the following statement is true or false: “In the testing phase of the Software Development Life Cycle, the primary goal is to identify and fix bugs or issues in the software.” ACPDS - Fundamentals of Python - Introduction to Computer Programming - Software Development Life Cycle - question 1\n",
        "\n",
        "True\n",
        "\n",
        "Correct! The testing phase in the SDLC focuses on verifying that the software works as expected and identifying any bugs or issues. The goal is to ensure that the software meets the specified requirements, and any defects, if present, are caught and resolved before the software is deployed to users. This phase typically includes different types of testing, such as unit testing, integration testing, system testing and user acceptance testing (UAT).\n",
        "\n",
        "False\n",
        "\n",
        "Incorrect. This is indeed the primary goal of testing. The testing phase in the SDLC focuses on verifying whether the software works as expected and identifying any bugs or issues. The goal is to ensure that the software meets the specified requirements and to catch and resolve any defects before the software is deployed to users. This phase typically includes different types of testing, such as unit testing, integration testing, system testing and user acceptance testing (UAT).\n",
        "\n"
      ],
      "metadata": {
        "id": "ZtXUi_7kLrGa"
      }
    },
    {
      "cell_type": "markdown",
      "source": [
        "ACPDS - Fundamentals of Python - Introduction to Computer Programming - Software Development Life Cycle - quiz\n",
        "\n",
        "\n",
        "#### Question 2 out of 2 - Software Development Life Cycle\n",
        "Single Selection\n",
        "2\n",
        "A new app store is available, which attracts a significant number of users. You want to launch your finished app on this app store. Which phase of the Software Development Life Cycle would you cycle back to in order to achieve this? Please choose the most likely answer. ACPDS - Fundamentals of Python - Introduction to Computer Programming - Software Development Life Cycle - question 2\n",
        "\n",
        "Planning\n",
        "\n",
        "Incorrect. The app is already complete, as stated in the question. Not much planning is involved in launching the app on the new app store, as you have already decided to do so. The question asks for the most likely answer; this option is not correct.\n",
        "\n",
        "Design\n",
        "\n",
        "Incorrect. The app is already complete, as stated in the question. There may be some design considerations in making your app suitable for the new store, but the question asks for the most likely answer; this option is not correct.\n",
        "\n",
        "Deployment\n",
        "\n",
        "Correct! Making the app publicly available on the new app store is a deployment task.\n",
        "\n",
        "Requirement analysis\n",
        "\n",
        "Incorrect. The app is already complete, as stated in the question. While there may be some new requirements that need to be considered for making the app suitable for the new store, the question asks for the most likely answer; this option is not correct.\n",
        "\n"
      ],
      "metadata": {
        "id": "plK_6Zr3MbXM"
      }
    },
    {
      "cell_type": "markdown",
      "source": [
        "### Text Editor vs Terminal/PowerShell vs IDE\n",
        "In popular imagination, writing code is an almost mystical activity where a solitary person sits before a computer in the dark, typing furiously on a keyboard. They are often shown to hack into complex infrastructure in a matter of minutes and are rarely shown to make any mistakes. While there is some truth to this stereotype, there is also a lot that is misleading!\n",
        "\n",
        "\n",
        "\n",
        "For instance, coding is often a collaborative process involving many like-minded individuals working together. Ethical hacking exists, but by and large, developer jobs are similar to any other office job. Coding also involves a lot of trial and error, with testing and debugging being vital elements in the software development process. In reality, software development is a structured process involving tools that have been honed by what are now generations of developers and languages.\n",
        "\n",
        "\n",
        "\n",
        "Abhishek will discuss the fundamental tools that can be used to write and execute simple code:\n",
        "- Text Editor ((Simple))\n",
        "- IDE (Text Editor +Version Control ) ((Resource Heavy))\n",
        "- Terminal Shell (interact with operating system)\n",
        "\n",
        "\n",
        "Next, we will look at some differences between text editors and IDEs."
      ],
      "metadata": {
        "id": "KtBI2IcnOR3z"
      }
    },
    {
      "cell_type": "markdown",
      "source": [
        "ACPDS - Fundamentals of Python - Introduction to Computer Programming -\n",
        "\n",
        "### Development Tools - part 2 (table)\n",
        "\n",
        "Optional\n",
        "\n",
        "Today, there is a blurring between what constitutes a text editor and what an integrated development environment (IDE). There may be powerful text editors that have some IDE-like features and lightweight IDEs that are more akin to text editors. Broadly, here are the differences between a text editor and an IDE:\n",
        "\n",
        "\n",
        "\n",
        "\n",
        "____ ----- Text Editor ---- IDE\n",
        "\n",
        "\n",
        "---\n",
        "Purpose ----- Writing basic code ------ Comprehensive development\n",
        "\n",
        "\n",
        "---\n",
        "\n",
        "\n",
        "Performance\t---- Lightweight and fast ----- Heavy and resource-intensive\n",
        "\n",
        "\n",
        "---\n",
        "\n",
        "\n",
        "Tools ---- Minimal; can be enhanced using plugins ---- Includes tools for debugging, compiling, testing, version control, etc. Can be enhanced using plugins.\n",
        "\n",
        "\n",
        "---\n",
        "\n",
        "\n",
        "\n",
        "Ease of use ---- Beginner-friendly ----- Require learning\n",
        "\n",
        "\n",
        "---\n",
        "\n",
        "\n",
        "\n",
        "Best for ---- Small projects and quick edits ----- Large and complex projects\n",
        "\n",
        "\n",
        "\n",
        "---\n",
        "\n",
        "\n",
        "Examples ---- Windows Notepad, Notepad++ and Sublime Text ---- Google Colab, Jupyter Notebooks and PyCharm\n",
        "\n",
        "\n",
        "\n",
        "The terminal is the interface into which you type commands, such as ones to execute a code file. The shell is the command-line interpreter, which executes the commands you type into the terminal. Think of the terminal as a waiter who takes your order in a restaurant and the shell as the chef who actually prepares the dish."
      ],
      "metadata": {
        "id": "G0x5CyzdQOrR"
      }
    },
    {
      "cell_type": "markdown",
      "source": [
        "####  Google Colab\n",
        "\n",
        "Google Colab is an interactive, web-based, cloud-compatible IDE that runs IPython Notebook (IPYNB) files. IPYNB files offer interactive, browser-based environments for working with Python code and such features as cell-by-cell execution, in-built documentation and visualisation, code and outputs in the same file, pre-installed libraries and, lately, generative AI functionality. IPython is the shell on which these notebooks run. IPYNB files are often used in data science and machine learning for data exploration, analysis and visualisation, and are often pre-loaded with up-to-date libraries used in the field. They are also used for educational purposes, as teachers can edit and re-run cells of code on the fly.\n",
        "\n",
        "\n",
        "\n",
        "Here is Sudarshanan with a brief introduction to getting started with Google Colab:"
      ],
      "metadata": {
        "id": "8s4FqFcbRrap"
      }
    },
    {
      "cell_type": "code",
      "source": [],
      "metadata": {
        "id": "18MqMEKu19xH"
      },
      "execution_count": null,
      "outputs": []
    },
    {
      "cell_type": "code",
      "source": [
        ""
      ],
      "metadata": {
        "id": "SFmRzpSGz_SJ"
      },
      "execution_count": null,
      "outputs": []
    }
  ]
}